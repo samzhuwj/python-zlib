{
 "cells": [
  {
   "cell_type": "code",
   "execution_count": null,
   "metadata": {},
   "outputs": [],
   "source": [
    "# Compressing a String of Data\n",
    "import zlib  \n",
    "import binascii\n",
    "\n",
    "data = 'Hello world'\n",
    "\n",
    "compressed_data = zlib.compress(data, 0)  \n",
    "\n",
    "print('Original data: ' +  data)  \n",
    "print('Compressed data: ' + binascii.hexlify(compressed_data))  "
   ]
  },
  {
   "cell_type": "code",
   "execution_count": null,
   "metadata": {},
   "outputs": [],
   "source": [
    "python compress_str.py "
   ]
  },
  {
   "cell_type": "code",
   "execution_count": null,
   "metadata": {},
   "outputs": [],
   "source": [
    "# Compressing Large Data Streams\n",
    "import zlib  \n",
    "import binascii\n",
    "\n",
    "data = 'Hello world'\n",
    "\n",
    "compress = zlib.compressobj(zlib.Z_DEFAULT_COMPRESSION, zlib.DEFLATED, -15)  \n",
    "compressed_data = compress.compress(data)  \n",
    "compressed_data += compress.flush()\n",
    "\n",
    "print('Original: ' + data)  \n",
    "print('Compressed data: ' + binascii.hexlify(compressed_data))  "
   ]
  },
  {
   "cell_type": "code",
   "execution_count": null,
   "metadata": {},
   "outputs": [],
   "source": [
    "python compress_str.py "
   ]
  },
  {
   "cell_type": "code",
   "execution_count": null,
   "metadata": {},
   "outputs": [],
   "source": [
    "# Compressing a File\n",
    "import zlib\n",
    "\n",
    "original_data = open('logo.png', 'rb').read()  \n",
    "compressed_data = zlib.compress(original_data, zlib.Z_BEST_COMPRESSION)\n",
    "\n",
    "compress_ratio = (float(len(original_data)) - float(len(compressed_data))) / float(len(original_data))\n",
    "\n",
    "print('Compressed: %d%%' % (100.0 * compress_ratio))  "
   ]
  },
  {
   "cell_type": "code",
   "execution_count": null,
   "metadata": {},
   "outputs": [],
   "source": [
    "python compress_str.py "
   ]
  },
  {
   "cell_type": "code",
   "execution_count": null,
   "metadata": {},
   "outputs": [],
   "source": [
    "# Saving Compressed Data to a File\n",
    "import zlib\n",
    "\n",
    "my_data = 'Hello world'\n",
    "\n",
    "compressed_data = zlib.compress(my_data, 2)\n",
    "\n",
    "f = open('outfile.txt', 'w')  \n",
    "f.write(compressed_data)  \n",
    "f.close()  "
   ]
  },
  {
   "cell_type": "code",
   "execution_count": null,
   "metadata": {},
   "outputs": [],
   "source": [
    "# Decompression\n",
    "import zlib\n",
    "\n",
    "data = 'Hello world'\n",
    "\n",
    "compressed_data = zlib.compress(data, 2)  \n",
    "decompressed_data = zlib.decompress(compressed_data)\n",
    "\n",
    "print('Decompressed data: ' + decompressed_data)  "
   ]
  },
  {
   "cell_type": "code",
   "execution_count": null,
   "metadata": {},
   "outputs": [],
   "source": [
    "# Decompressing Large Data Streams\n",
    "import zlib\n",
    "\n",
    "data = 'Hello world'\n",
    "\n",
    "compress = zlib.compressobj(zlib.Z_DEFAULT_COMPRESSION, zlib.DEFLATED, +15)  \n",
    "compressed_data = compress.compress(data)  \n",
    "compressed_data += compress.flush()\n",
    "\n",
    "print('Original: ' + data)  \n",
    "print('Compressed data: ' + compressed_data)\n",
    "\n",
    "f = open('compressed.dat', 'w')  \n",
    "f.write(compressed_data)  \n",
    "f.close()\n",
    "\n",
    "CHUNKSIZE = 1024\n",
    "\n",
    "data2 = zlib.decompressobj()  \n",
    "my_file = open('compressed.dat', 'rb')  \n",
    "buf = my_file.read(CHUNKSIZE)\n",
    "\n",
    "# Decompress stream chunks\n",
    "while buf:  \n",
    "    decompressed_data = data2.decompress(buf)\n",
    "    buf = my_file.read(CHUNKSIZE)\n",
    "\n",
    "decompressed_data += data2.flush()\n",
    "\n",
    "print('Decompressed data: ' + decompressed_data)\n",
    "\n",
    "my_file.close()  "
   ]
  },
  {
   "cell_type": "code",
   "execution_count": null,
   "metadata": {},
   "outputs": [],
   "source": [
    "python decompress_data.py "
   ]
  },
  {
   "cell_type": "code",
   "execution_count": null,
   "metadata": {},
   "outputs": [],
   "source": [
    "# Decompressing Data from a File\n",
    "import zlib\n",
    "\n",
    "compressed_data = open('compressed.dat', 'rb').read()  \n",
    "decompressed_data = zlib.decompress(compressed_data)  \n",
    "print(decompressed_data)  "
   ]
  },
  {
   "cell_type": "code",
   "execution_count": null,
   "metadata": {},
   "outputs": [],
   "source": [
    "python decompress_file.py "
   ]
  },
  {
   "cell_type": "code",
   "execution_count": null,
   "metadata": {},
   "outputs": [],
   "source": []
  }
 ],
 "metadata": {
  "kernelspec": {
   "display_name": "Python 3",
   "language": "python",
   "name": "python3"
  },
  "language_info": {
   "codemirror_mode": {
    "name": "ipython",
    "version": 3
   },
   "file_extension": ".py",
   "mimetype": "text/x-python",
   "name": "python",
   "nbconvert_exporter": "python",
   "pygments_lexer": "ipython3",
   "version": "3.6.3"
  }
 },
 "nbformat": 4,
 "nbformat_minor": 2
}
